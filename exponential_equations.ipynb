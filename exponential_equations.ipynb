{
 "cells": [
  {
   "cell_type": "markdown",
   "metadata": {},
   "source": [
    "* Exponential function: $ f(x) = a^x,\\ a \\in R,\\ 0<a\\neq1 $\n",
    "* $ y=ax  \\longrightarrow  y = a^0 = 1 $\n"
   ]
  },
  {
   "cell_type": "markdown",
   "metadata": {},
   "source": [
    "* Exponential equations have at least one variable in one power.\n",
    "$$ 4^x=8,\\ \\left(\\frac{1}{9}\\right)^x=81,\\ 9^x-3x=72$$\n",
    "\n",
    "$$ f \\colon \\mathbb{R} \\to \\mathbb{R} \\\\\n",
    "x \\mapsto x^2 \n",
    "$$"
   ]
  }
 ],
 "metadata": {
  "kernelspec": {
   "display_name": "Python 3",
   "language": "python",
   "name": "python3"
  },
  "language_info": {
   "codemirror_mode": {
    "name": "ipython",
    "version": 3
   },
   "file_extension": ".py",
   "mimetype": "text/x-python",
   "name": "python",
   "nbconvert_exporter": "python",
   "pygments_lexer": "ipython3",
   "version": "3.8.10"
  }
 },
 "nbformat": 4,
 "nbformat_minor": 4
}
