{
 "cells": [
  {
   "cell_type": "markdown",
   "metadata": {},
   "source": [
    " $$\\ Normal text $$\n",
    "$$\\textbf{Bold text}$$\n",
    "$$\\textit{Italic text}$$\n",
    "$$\\underline{Underline text}$$\n",
    "$$\\\\emph{emphasis}$$\n",
    "\n"
   ]
  },
  {
   "cell_type": "markdown",
   "metadata": {},
   "source": [
    "# <center>Relations</center>\n",
    "$$\\pi \\approx 3.414159$$\n",
    "$${1 \\over 0} \\neq \\infty$$\n",
    "$$0 < x > 1$$\n",
    "$$0 \\leq x \\geq 1$$\n"
   ]
  },
  {
   "cell_type": "markdown",
   "metadata": {},
   "source": [
    "# <center>Fractions</center>\n",
    "$$^1/_2$$\n",
    "\n",
    "$$\\frac{1}{2x}$$\n",
    "\n",
    "$${3 \\over 4}$$"
   ]
  },
  {
   "attachments": {},
   "cell_type": "markdown",
   "metadata": {},
   "source": [
    "# <center>Greek letters</center>\n",
    "$$ \\alpha  \\space  A  \\space  \\nu  \\space  N  \\space  \\beta  \\space  B  \\space  \\xi\\Xi  \\space  \\gamma  \\space  \\Gamma  \\space  o  \\space  O  \\space  \\delta  \\space  \\Delta  \\space  \\pi  \\space  \\Pi  \\space  \\epsilon  \\space  \\varepsilon  \\space  E\\  \\space  \\rho \\space \\varrho  \\space  P  \\space  \\zeta  \\space  Z  \\space  \\sigma  \\space  \\Sigma  \\space  \\eta  \\space  H  \\space  \\tau  \\space  T  \\space  \\theta  \\space  \\vartheta  \\space  \\Theta  \\space  \\upsilon  \\space  \\Upsilon  \\space  \\iota  \\space  I  \\space  \\phi  \\space  \\varphi  \\space  \\Phi  \\space  \\kappa  \\space  K  \\space  \\chi  \\space  X  \\space  \\lambda  \\space  \\Lambda  \\space  \\;  \\space  \\psi  \\space  \\Psi  \\space  \\mu  \\space  M  \\space  \\omega  \\space  \\Omega  \\space    $$"
   ]
  },
  {
   "cell_type": "markdown",
   "metadata": {},
   "source": [
    "# <center>Arrows</center>\n",
    "$$\\leftarrow \\space \\Leftarrow \\space \\rightarrow \\space \\Rightarrow \\space \\leftrightarrow \\space \\rightleftharpoons \\space \\uparrow \\space \\downarrow \\space \\Uparrow \\space \\ \\space \\Downarrow \\space \\Leftrightarrow \\space \\ \\space \\Updownarrow \\space \\mapsto \\space \\longmapsto \\space \\nearrow \\space \\searrow \\space \\swarrow \\space \\nwarrow \\space \\leftharpoonup \\space \\rightharpoonup \\space \\leftharpoondown \\space \\rightharpoondown \\space $$\n"
   ]
  },
  {
   "cell_type": "markdown",
   "metadata": {},
   "source": [
    "# <center>Miscellaneous  symbols</center>\n",
    "$$\\infty  \\space  \\forall  \\space  \\Re  \\space  \\Im  \\space  \\nabla  \\space  \\exists  \\space  \\partial  \\space  \\nexists  \\space  \\emptyset  \\space  \\varnothing  \\space  \\wp  \\space  \\complement  \\space  \\neg  \\space  \\cdots  \\space  \\square  \\space  \\surd  \\space  \\blacksquare  \\space  \\triangle$$\n"
   ]
  },
  {
   "cell_type": "markdown",
   "metadata": {},
   "source": [
    "#<center>Binary  Operation/Relation  Symbols</center>\n",
    "$$\\times  \\space  \\div  \\space  \\cap  \\space  \\cup  \\space  \\neq  \\space  \\leq  \\space  \\geq  \\space  \\in  \\space  \\perp  \\space  \\notin  \\space  \\subset  \\space  \\simeq  \\space  \\approx  \\space  \\wedge  \\space  \\vee  \\space  \\oplus  \\space  \\otimes  \\space  \\Box  \\space  \\boxtimes  \\space  \\equiv  \\space  \\cong  \\space  $$"
   ]
  }
 ],
 "metadata": {
  "kernelspec": {
   "display_name": "Python 3",
   "language": "python",
   "name": "python3"
  },
  "language_info": {
   "codemirror_mode": {
    "name": "ipython",
    "version": 3
   },
   "file_extension": ".py",
   "mimetype": "text/x-python",
   "name": "python",
   "nbconvert_exporter": "python",
   "pygments_lexer": "ipython3",
   "version": "3.8.10"
  }
 },
 "nbformat": 4,
 "nbformat_minor": 4
}
