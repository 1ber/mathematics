{
 "cells": [
  {
   "cell_type": "markdown",
   "metadata": {},
   "source": [
    "* Square of sum  $(A+B)^2=A^2+2AB+B^2$\n",
    "* Square of difference  $(A-B)^2=A^2-2AB+B^2$\n",
    "* Sum and difference product  $(A+B)(A-B)=A^2-B^2$\n"
   ]
  },
  {
   "cell_type": "markdown",
   "metadata": {},
   "source": [
    "* Common factor: $ ax+cx = x(a+c) $\n",
    "* Grouping: $ 3x+3+Ax+A=3(x+1)+A(X+1)=(X+1)(3+A)$"
   ]
  }
 ],
 "metadata": {
  "kernelspec": {
   "display_name": "Python 3",
   "language": "python",
   "name": "python3"
  },
  "language_info": {
   "codemirror_mode": {
    "name": "ipython",
    "version": 3
   },
   "file_extension": ".py",
   "mimetype": "text/x-python",
   "name": "python",
   "nbconvert_exporter": "python",
   "pygments_lexer": "ipython3",
   "version": "3.8.10"
  }
 },
 "nbformat": 4,
 "nbformat_minor": 4
}
