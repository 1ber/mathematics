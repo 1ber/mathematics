{
 "cells": [
  {
   "cell_type": "code",
   "execution_count": 1,
   "metadata": {},
   "outputs": [],
   "source": [
    "import matplotlib.pyplot as plt\n",
    "import mplcyberpunk\n",
    "import numpy as np\n",
    "import sympy as sp\n",
    "\n",
    "%matplotlib inline\n",
    "plt.style.use(\"cyberpunk\")\n"
   ]
  },
  {
   "cell_type": "code",
   "execution_count": 12,
   "metadata": {},
   "outputs": [
    {
     "name": "stdout",
     "output_type": "stream",
     "text": [
      " 2          \n",
      "n  + 2⋅n + 1\n"
     ]
    }
   ],
   "source": [
    "a=[1,3,5,7]\n",
    "i,n=sp.symbols('i,n')\n",
    "s=sp.summation(2*i+1, (i,0,n))\n",
    "sp.pprint( s ) "
   ]
  },
  {
   "cell_type": "markdown",
   "metadata": {},
   "source": [
    "$\\sum\\limits_{k=1}^n k^2$\n",
    "$\\sum\\limits_{n=1}^{-\\infty} n^{-s} $\n",
    "$\\prod\\limits_{i=1}^n x = x^n $"
   ]
  },
  {
   "cell_type": "code",
   "execution_count": null,
   "metadata": {},
   "outputs": [],
   "source": []
  }
 ],
 "metadata": {
  "kernelspec": {
   "display_name": "Python 3",
   "language": "python",
   "name": "python3"
  },
  "language_info": {
   "codemirror_mode": {
    "name": "ipython",
    "version": 3
   },
   "file_extension": ".py",
   "mimetype": "text/x-python",
   "name": "python",
   "nbconvert_exporter": "python",
   "pygments_lexer": "ipython3",
   "version": "3.8.10"
  }
 },
 "nbformat": 4,
 "nbformat_minor": 4
}
