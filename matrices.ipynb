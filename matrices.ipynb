{
 "cells": [
  {
   "cell_type": "markdown",
   "metadata": {},
   "source": [
    "## Matrices\n",
    "A matrix is a table organized in m lines ane n columns in which $ m \\land n \\in \\mathbb{N^*}$\n",
    "\n",
    "$\\mathbb{N} = \\{ a \\in \\mathbb{z} \\colon a >  0 \\}$\n",
    "* Line matrix, $ m=1 \\colon \\begin{bmatrix} a&b&c \\end{bmatrix} $\n",
    "* Column matrix, $ n=1 \\colon \\begin{bmatrix} a\\\\b\\\\c \\end{bmatrix} $\n",
    "* Null matrix, contain only zeroes: $ \\begin{bmatrix} 0 & 0 & 0\\\\0 & 0 & 0\\\\0 & 0 & 0\\\\ \\end{bmatrix} $\n",
    "\n"
   ]
  },
  {
   "cell_type": "code",
   "execution_count": null,
   "metadata": {},
   "outputs": [],
   "source": []
  }
 ],
 "metadata": {
  "kernelspec": {
   "display_name": "Python 3",
   "language": "python",
   "name": "python3"
  },
  "language_info": {
   "codemirror_mode": {
    "name": "ipython",
    "version": 3
   },
   "file_extension": ".py",
   "mimetype": "text/x-python",
   "name": "python",
   "nbconvert_exporter": "python",
   "pygments_lexer": "ipython3",
   "version": "3.8.10"
  }
 },
 "nbformat": 4,
 "nbformat_minor": 4
}
