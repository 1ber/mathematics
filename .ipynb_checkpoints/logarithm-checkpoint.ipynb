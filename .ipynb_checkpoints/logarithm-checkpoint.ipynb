{
 "cells": [
  {
   "cell_type": "markdown",
   "metadata": {},
   "source": [
    "# Logarithm\n",
    "\n"
   ]
  },
  {
   "cell_type": "code",
   "execution_count": 41,
   "metadata": {},
   "outputs": [
    {
     "data": {
      "text/markdown": [
       "# Hello World!"
      ],
      "text/plain": [
       "<IPython.core.display.Markdown object>"
      ]
     },
     "metadata": {},
     "output_type": "display_data"
    }
   ],
   "source": [
    "import numpy as np\n",
    "import sympy as sp\n",
    "import matplotlib.pyplot as plt\n",
    "from matplotlib.pyplot import plot\n",
    "\n",
    "from numpy import *\n",
    "from fractions import Fraction\n",
    "from sympy import *\n",
    "from sympy.abc import *\n",
    "from IPython.display import display, Markdown\n"
   ]
  },
  {
   "cell_type": "code",
   "execution_count": 84,
   "metadata": {},
   "outputs": [
    {
     "data": {
      "text/markdown": [
       "$\\log_2(8) $ = 3.0"
      ],
      "text/plain": [
       "<IPython.core.display.Markdown object>"
      ]
     },
     "metadata": {},
     "output_type": "display_data"
    },
    {
     "data": {
      "text/markdown": [
       "$\\log_3(9) $ = 2"
      ],
      "text/plain": [
       "<IPython.core.display.Markdown object>"
      ]
     },
     "metadata": {},
     "output_type": "display_data"
    },
    {
     "data": {
      "text/markdown": [
       "$\\log_2(1/4) $ = -2.0"
      ],
      "text/plain": [
       "<IPython.core.display.Markdown object>"
      ]
     },
     "metadata": {},
     "output_type": "display_data"
    },
    {
     "data": {
      "text/markdown": [
       "$\\log_5(5) $ = 1"
      ],
      "text/plain": [
       "<IPython.core.display.Markdown object>"
      ]
     },
     "metadata": {},
     "output_type": "display_data"
    },
    {
     "data": {
      "text/markdown": [
       "$\\log_4(1) $ = 0"
      ],
      "text/plain": [
       "<IPython.core.display.Markdown object>"
      ]
     },
     "metadata": {},
     "output_type": "display_data"
    },
    {
     "data": {
      "text/markdown": [
       "$\\log_3(\\sqrt(3) ) $ = 1/2"
      ],
      "text/plain": [
       "<IPython.core.display.Markdown object>"
      ]
     },
     "metadata": {},
     "output_type": "display_data"
    },
    {
     "data": {
      "text/markdown": [
       "$\\log_{1/2}\\frac{1}{4} $ = 2"
      ],
      "text/plain": [
       "<IPython.core.display.Markdown object>"
      ]
     },
     "metadata": {},
     "output_type": "display_data"
    },
    {
     "data": {
      "text/markdown": [
       "$\\log_{\\sqrt[3]{9}}3 $ = 3/2"
      ],
      "text/plain": [
       "<IPython.core.display.Markdown object>"
      ]
     },
     "metadata": {},
     "output_type": "display_data"
    }
   ],
   "source": [
    "display(Markdown(\"$\\log_2(8) $ = \" +str(log2(8) ) ) )\n",
    "display(Markdown(\"$\\log_3(9) $ = \" + str( log(9,3) ) ) )\n",
    "display(Markdown(\"$\\log_2(1/4) $ = \" + str( log2(1/4) ) ) )\n",
    "display(Markdown(\"$\\log_5(5) $ = \" + str( log(5,5) ) ) )\n",
    "display(Markdown(\"$\\log_4(1) $ = \" + str( log(1,4) ) ) )\n",
    "display(Markdown(\"$\\log_3(\\sqrt(3) ) $ = \" \n",
    "    + str( nsimplify( log( sp.N(sqrt(3,2)), sp.N(3) )  ) ) ) )\n",
    "display(Markdown(\"$\\log_{1/2}\\\\frac{1}{4} $ = \" \n",
    "    + str( nsimplify( log( 0.25, 0.5 ) ) ) ) )\n",
    "display(Markdown(\"$\\log_{\\\\sqrt[3]{9}}3 $ = \" \n",
    "    + str( nsimplify( log( 3, root( 9, 3 ) ) ) ) ) )\n",
    "\n",
    "\n"
   ]
  },
  {
   "cell_type": "code",
   "execution_count": 102,
   "metadata": {},
   "outputs": [
    {
     "data": {
      "text/markdown": [
       "$\\log_x {4}=-2$, x = [1/2]"
      ],
      "text/plain": [
       "<IPython.core.display.Markdown object>"
      ]
     },
     "metadata": {},
     "output_type": "display_data"
    }
   ],
   "source": [
    "e1 = Eq( log( 4, Symbol('x') ), -2 )\n",
    "display( Markdown( '$\\log_x {4}=-2$, x = ' + str( list ( solveset( e1, x )))) )"
   ]
  }
 ],
 "metadata": {
  "kernelspec": {
   "display_name": "Python 3",
   "language": "python",
   "name": "python3"
  },
  "language_info": {
   "codemirror_mode": {
    "name": "ipython",
    "version": 3
   },
   "file_extension": ".py",
   "mimetype": "text/x-python",
   "name": "python",
   "nbconvert_exporter": "python",
   "pygments_lexer": "ipython3",
   "version": "3.8.10"
  }
 },
 "nbformat": 4,
 "nbformat_minor": 4
}
