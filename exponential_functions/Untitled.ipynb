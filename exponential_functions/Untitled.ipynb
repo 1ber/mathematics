{
 "cells": [
  {
   "cell_type": "markdown",
   "metadata": {},
   "source": [
    "## Negative exponent potency\n",
    "Given a real number a, not null and a natural number, the poteny with base 'a' and exponent '-n' the number $a^{-n}$ which is the inverse of $a^{n}$: $1/a^{n}$\n",
    "\n",
    "## Nth arithmetic root\n",
    "Given a non negative real number 'a' and a natural number n, $n\\geq1$ the nth root of the number is the number 'b' for which $b^n=a$  \n",
    "\n",
    "## Rational exponent\n",
    "For $ a \\in R, a > 0$ and  $n \\in N_{> 0}, a^{1/n}=\\sqrt[n]{a}$\n",
    "\n",
    "$a^{m/n}=\\sqrt[n]{a^m}$\n",
    "\n",
    "Page 135\n"
   ]
  },
  {
   "cell_type": "code",
   "execution_count": 4,
   "metadata": {},
   "outputs": [],
   "source": [
    "from sympy.interactive import printing\n",
    "from fractions import Fraction\n",
    "printing.init_printing( use_latex = True )\n",
    "import numpy as np\n",
    "import sympy as sp"
   ]
  },
  {
   "cell_type": "markdown",
   "metadata": {},
   "source": []
  },
  {
   "cell_type": "code",
   "execution_count": null,
   "metadata": {},
   "outputs": [],
   "source": []
  }
 ],
 "metadata": {
  "kernelspec": {
   "display_name": "Python 3",
   "language": "python",
   "name": "python3"
  },
  "language_info": {
   "codemirror_mode": {
    "name": "ipython",
    "version": 3
   },
   "file_extension": ".py",
   "mimetype": "text/x-python",
   "name": "python",
   "nbconvert_exporter": "python",
   "pygments_lexer": "ipython3",
   "version": "3.8.10"
  }
 },
 "nbformat": 4,
 "nbformat_minor": 4
}
